{
 "cells": [
  {
   "cell_type": "code",
   "execution_count": 1,
   "id": "initial_id",
   "metadata": {
    "collapsed": true,
    "ExecuteTime": {
     "end_time": "2024-02-19T18:25:26.935533300Z",
     "start_time": "2024-02-19T18:25:26.196842700Z"
    }
   },
   "outputs": [],
   "source": [
    "from PIL import Image\n",
    "import numpy as np\n",
    "import os"
   ]
  },
  {
   "cell_type": "code",
   "outputs": [],
   "source": [
    "#my path\n",
    "base_path = os.getcwd()\n",
    "# input path\n",
    "input_path = os.path.join(base_path, 'raw_training_data')\n",
    "# output path\n",
    "output_path = os.path.join(base_path, 'validation_data/images')"
   ],
   "metadata": {
    "collapsed": false,
    "ExecuteTime": {
     "end_time": "2024-02-19T18:25:26.968249500Z",
     "start_time": "2024-02-19T18:25:26.939211200Z"
    }
   },
   "id": "b273df3bc1bfbb8b",
   "execution_count": 2
  },
  {
   "cell_type": "code",
   "outputs": [],
   "source": [
    "# iterate over the images in omer\n",
    "for file in os.listdir(input_path):\n",
    "    # open the image\n",
    "    img = Image.open(os.path.join(input_path, file))\n",
    "    # resize the image 640x640\n",
    "    img = img.resize((640, 640))\n",
    "    # save the image in the output path\n",
    "    img.save(os.path.join(output_path, file))\n"
   ],
   "metadata": {
    "collapsed": false,
    "ExecuteTime": {
     "end_time": "2024-02-19T18:26:30.969993500Z",
     "start_time": "2024-02-19T18:25:28.685726500Z"
    }
   },
   "id": "6d66e2c73be2803b",
   "execution_count": 3
  },
  {
   "cell_type": "code",
   "outputs": [],
   "source": [],
   "metadata": {
    "collapsed": false
   },
   "id": "1fe789000b655384"
  }
 ],
 "metadata": {
  "kernelspec": {
   "display_name": "Python 3",
   "language": "python",
   "name": "python3"
  },
  "language_info": {
   "codemirror_mode": {
    "name": "ipython",
    "version": 2
   },
   "file_extension": ".py",
   "mimetype": "text/x-python",
   "name": "python",
   "nbconvert_exporter": "python",
   "pygments_lexer": "ipython2",
   "version": "2.7.6"
  }
 },
 "nbformat": 4,
 "nbformat_minor": 5
}
